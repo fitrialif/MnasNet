{
 "cells": [
  {
   "cell_type": "code",
   "execution_count": 1,
   "metadata": {
    "ExecuteTime": {
     "end_time": "2019-07-09T10:51:22.878608Z",
     "start_time": "2019-07-09T10:51:22.752641Z"
    }
   },
   "outputs": [],
   "source": [
    "import numpy as np\n",
    "\n",
    "# Load\n",
    "tf_weights = np.load('my_file.npy', allow_pickle=True).item()"
   ]
  },
  {
   "cell_type": "code",
   "execution_count": 2,
   "metadata": {
    "ExecuteTime": {
     "end_time": "2019-07-09T10:51:26.467560Z",
     "start_time": "2019-07-09T10:51:26.152412Z"
    }
   },
   "outputs": [],
   "source": [
    "%reload_ext autoreload\n",
    "%autoreload 2\n",
    "%matplotlib inline"
   ]
  },
  {
   "cell_type": "code",
   "execution_count": 3,
   "metadata": {
    "ExecuteTime": {
     "end_time": "2019-07-09T10:51:31.741415Z",
     "start_time": "2019-07-09T10:51:29.892268Z"
    }
   },
   "outputs": [],
   "source": [
    "from MnasNet_Functional import build_mnasnet_model"
   ]
  },
  {
   "cell_type": "code",
   "execution_count": 6,
   "metadata": {
    "ExecuteTime": {
     "end_time": "2019-07-09T10:53:16.876571Z",
     "start_time": "2019-07-09T10:52:51.997817Z"
    }
   },
   "outputs": [],
   "source": [
    "model = build_mnasnet_model('mnasnet-a1')\n",
    "model.compile(optimizer='adam',\n",
    "              loss='sparse_categorical_crossentropy',\n",
    "              metrics=['accuracy'])"
   ]
  },
  {
   "cell_type": "code",
   "execution_count": 7,
   "metadata": {
    "ExecuteTime": {
     "end_time": "2019-07-09T10:53:20.577279Z",
     "start_time": "2019-07-09T10:53:20.531638Z"
    },
    "code_folding": [
     55
    ]
   },
   "outputs": [],
   "source": [
    "def verify_and_set(layer, block_id, tf_weights, tf_keys, curr_index, verbose):\n",
    "    name = layer.name\n",
    "    start = 'mnasnet-a1'\n",
    "    block_name = f'mnas_blocks_{block_id}'\n",
    "    \n",
    "    if name.endswith('depthwise_conv'):\n",
    "        key = '{}/mnas_net_model/{}/depthwise_conv2d'.format(start, block_name)\n",
    "        forward = 1\n",
    "    \n",
    "    elif name.endswith('se_reduce_conv') or name.endswith('se_expand_conv'):\n",
    "        key = '{}/mnas_net_model/{}/se/conv2d'.format(start, block_name)\n",
    "        forward = 2\n",
    "    \n",
    "    elif name.endswith('stem_conv') or name.endswith('head_conv'):\n",
    "        key = '{}/mnas_net_model/mnas_{}/conv2d'.format(start, name[:4])\n",
    "        forward = 1\n",
    "    \n",
    "    elif name.endswith('stem_conv'):\n",
    "        key = '{}/mnas_net_model/mnas_stem/conv2d'.format(start)\n",
    "        forward = 1\n",
    "    \n",
    "    elif name.endswith('conv'):\n",
    "        key = '{}/mnas_net_model/{}/conv2d'.format(start, block_name)\n",
    "        forward = 1\n",
    "\n",
    "    elif name.endswith('stem_conv_BN') or name.endswith('head_conv_BN'):\n",
    "        key = '{}/mnas_{}/batch_normalization'.format(start, name[:4])\n",
    "        forward = 4\n",
    "\n",
    "    elif name.endswith('BN'):\n",
    "        key = '{}/{}/batch_normalization'.format(start, block_name)\n",
    "        forward = 4\n",
    "    \n",
    "    elif name == 'FC':\n",
    "        key = '{}/mnas_net_model/mnas_head/dense'.format(start)\n",
    "        forward = 2\n",
    "\n",
    "    else:\n",
    "        if layer.variables != []:\n",
    "            raise ValueError(f'Layer \"{name}\" is not supported')\n",
    "        return curr_index\n",
    "    \n",
    "    weights = []\n",
    "    for i in range(curr_index, curr_index+forward):\n",
    "        if not tf_keys[i].startswith(key):\n",
    "            msg = 'For layer={}, an exception occurred\\n'\n",
    "            msg += \"\\ttf_index:\\t{}\\n\\taccess_key:\\t{}\\n\\treal_key:\\t{}\"\n",
    "            raise ValueError(msg.format(name, i, key, tf_keys[i]))\n",
    "        weights.append(tf_weights[tf_keys[i]])\n",
    "    layer.set_weights(weights)  \n",
    "\n",
    "    if verbose:\n",
    "        print(f'Processesd \"{name}\"')\n",
    "    return curr_index+forward\n",
    "\n",
    "\n",
    "def keras_set_weights_from_tf_model(model, tf_weights, verbose=False):\n",
    "    tf_index = 1\n",
    "    block_id = 0\n",
    "    b_chars = ('0',) * 2\n",
    "    tf_keys = list(tf_weights.keys())\n",
    "    \n",
    "    for layer in model.layers:\n",
    "        name = layer.name\n",
    "        if name.startswith('block'):\n",
    "            if b_chars != (name[6], name[12]):\n",
    "                block_id += 1\n",
    "                b_chars = (name[6], name[12])\n",
    "        \n",
    "        tf_index = verify_and_set(\n",
    "            layer,\n",
    "            block_id,\n",
    "            tf_weights,\n",
    "            tf_keys,\n",
    "            tf_index,\n",
    "            verbose\n",
    "            )      "
   ]
  },
  {
   "cell_type": "code",
   "execution_count": 9,
   "metadata": {
    "ExecuteTime": {
     "end_time": "2019-07-09T10:53:28.740378Z",
     "start_time": "2019-07-09T10:53:28.655131Z"
    }
   },
   "outputs": [],
   "source": [
    "keras_set_weights_from_tf_model(model, tf_weights);"
   ]
  },
  {
   "cell_type": "code",
   "execution_count": 11,
   "metadata": {
    "ExecuteTime": {
     "end_time": "2019-07-09T10:54:12.771178Z",
     "start_time": "2019-07-09T10:54:12.730473Z"
    }
   },
   "outputs": [],
   "source": [
    "from IPython import display\n",
    "import pylab\n",
    "import PIL\n",
    "import numpy as np\n",
    "filename = 'panda.jpg'\n",
    "img = np.array(PIL.Image.open(filename).resize((224, 224))).astype(np.float)"
   ]
  },
  {
   "cell_type": "code",
   "execution_count": 8,
   "metadata": {
    "ExecuteTime": {
     "end_time": "2019-07-09T07:10:07.734236Z",
     "start_time": "2019-07-09T07:10:07.699761Z"
    }
   },
   "outputs": [],
   "source": [
    "# MEAN_RGB = [0.485 * 255, 0.456 * 255, 0.406 * 255]\n",
    "# STDDEV_RGB = [0.229 * 255, 0.224 * 255, 0.225 * 255]\n",
    "\n",
    "# img2 = np.copy(img)\n",
    "# img2 -= MEAN_RGB\n",
    "# img2 /= STDDEV_RGB"
   ]
  },
  {
   "cell_type": "code",
   "execution_count": 13,
   "metadata": {
    "ExecuteTime": {
     "end_time": "2019-07-09T10:54:25.496512Z",
     "start_time": "2019-07-09T10:54:25.441415Z"
    }
   },
   "outputs": [],
   "source": [
    "from scipy.special import softmax"
   ]
  },
  {
   "cell_type": "code",
   "execution_count": 14,
   "metadata": {
    "ExecuteTime": {
     "end_time": "2019-07-09T10:54:32.988594Z",
     "start_time": "2019-07-09T10:54:29.355853Z"
    }
   },
   "outputs": [
    {
     "name": "stdout",
     "output_type": "stream",
     "text": [
      "Top class:  388  with Probability=  0.8776357\n",
      "Top 1 Prediction: 388, lesser panda, red panda, panda, bear cat, cat bear, Ailurus fulgens, probs=0.877636\n",
      "Top 2 Prediction: 245, Tibetan mastiff, probs=0.002865\n",
      "Top 3 Prediction: 384, Madagascar cat, ring-tailed lemur, Lemur catta, probs=0.002584\n",
      "Top 4 Prediction: 296, American black bear, black bear, Ursus americanus, Euarctos americanus, probs=0.001733\n",
      "Top 5 Prediction: 222, Irish water spaniel, probs=0.001599\n"
     ]
    }
   ],
   "source": [
    "import common.imagenet as imagenet\n",
    "import keras\n",
    "\n",
    "logits = model.predict(img[np.newaxis,...])\n",
    "top_class = np.argmax(logits)\n",
    "probs = softmax(logits)\n",
    "\n",
    "print(\"Top class: \", top_class, \" with Probability= \", probs[0][top_class])\n",
    "label_map = imagenet.create_readable_names_for_imagenet_labels()  \n",
    "for idx, label_id in enumerate(reversed(list(np.argsort(probs)[0][-5:]))):\n",
    "  print(\"Top %d Prediction: %d, %s, probs=%f\" % (idx+1, label_id, label_map[label_id], probs[0][label_id]))\n",
    "  "
   ]
  }
 ],
 "metadata": {
  "colab": {
   "collapsed_sections": [],
   "name": "Mnasnet Example.ipynb",
   "provenance": [],
   "version": "0.3.2"
  },
  "kernelspec": {
   "display_name": "Python [conda env:tf2]",
   "language": "python",
   "name": "conda-env-tf2-py"
  },
  "language_info": {
   "codemirror_mode": {
    "name": "ipython",
    "version": 3
   },
   "file_extension": ".py",
   "mimetype": "text/x-python",
   "name": "python",
   "nbconvert_exporter": "python",
   "pygments_lexer": "ipython3",
   "version": "3.7.3"
  },
  "toc": {
   "base_numbering": 1,
   "nav_menu": {},
   "number_sections": true,
   "sideBar": true,
   "skip_h1_title": false,
   "title_cell": "Table of Contents",
   "title_sidebar": "Contents",
   "toc_cell": false,
   "toc_position": {},
   "toc_section_display": true,
   "toc_window_display": false
  },
  "varInspector": {
   "cols": {
    "lenName": 16,
    "lenType": 16,
    "lenVar": 40
   },
   "kernels_config": {
    "python": {
     "delete_cmd_postfix": "",
     "delete_cmd_prefix": "del ",
     "library": "var_list.py",
     "varRefreshCmd": "print(var_dic_list())"
    },
    "r": {
     "delete_cmd_postfix": ") ",
     "delete_cmd_prefix": "rm(",
     "library": "var_list.r",
     "varRefreshCmd": "cat(var_dic_list()) "
    }
   },
   "types_to_exclude": [
    "module",
    "function",
    "builtin_function_or_method",
    "instance",
    "_Feature"
   ],
   "window_display": false
  }
 },
 "nbformat": 4,
 "nbformat_minor": 4
}
